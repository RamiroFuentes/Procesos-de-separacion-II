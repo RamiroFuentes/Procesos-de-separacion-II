{
 "cells": [
  {
   "cell_type": "markdown",
   "metadata": {},
   "source": [
    "# Funciones propuestas para la clase de Procesos de separación 2\n",
    "\n",
    "En el siguiente catálogo podemos encontrar algunas funciones que serán de utilidad para la solución de problemas propuestos en la clase de procesos de separación 2, para ello cada una tendrá su respectiva documentación para convertirlo en un recurso valioso en el estudio de la asignatura."
   ]
  },
  {
   "cell_type": "markdown",
   "metadata": {},
   "source": [
    "## Librerías a utilizar"
   ]
  },
  {
   "cell_type": "code",
   "execution_count": null,
   "metadata": {},
   "outputs": [],
   "source": [
    "# Librerias \n",
    "import numpy as np\n",
    "from numpy import poly1d,polyfit  \n",
    "import matplotlib.pyplot as plt\n",
    "from sympy import Symbol\n",
    "\n",
    "# Para imprimir en formato LaTex\n",
    "from sympy.interactive import printing\n",
    "printing.init_printing(use_latex=True)"
   ]
  },
  {
   "cell_type": "markdown",
   "metadata": {},
   "source": [
    "## Funciones"
   ]
  },
  {
   "cell_type": "code",
   "execution_count": 1,
   "metadata": {},
   "outputs": [],
   "source": [
    "def Rachford_Rice_4(z,k,Li,Ls,p):\n",
    "    psi = np.arange(Li,Ls+p,p)\n",
    "    f_psi = []\n",
    "    for value in psi:\n",
    "        f_psi.append((z[0]*(1-k[0])/(1+value*(k[0]-1))) + (z[1]*(1-k[1])/(1+value*(k[1]-1))) + (z[2]*(1-k[2])/(1+value*(k[2]-1))) + (z[3]*(1-k[3])/(1+value*(k[3]-1))) )\n",
    "        \n",
    "    return psi,f_psi\n",
    "\n",
    "def find_root_interval(given):\n",
    "    i = 0\n",
    "    for value in given:\n",
    "        if value >=0:\n",
    "            P_1 = i\n",
    "            P_0 = i-1\n",
    "        else: \n",
    "            i += 1\n",
    "    return P_0,P_1\n",
    "\n",
    "def interp(x_1,x_2,y_1,y_2,y_n):\n",
    "    x_n = x_1 -((x_1-x_2)*(y_1-y_n)/(y_1-y_2))\n",
    "    return x_n , y_n"
   ]
  },
  {
   "cell_type": "markdown",
   "metadata": {},
   "source": [
    "Todas estas funciones se encuentran dispoibles en el script function_zoo.py"
   ]
  }
 ],
 "metadata": {
  "kernelspec": {
   "display_name": "Python 3",
   "language": "python",
   "name": "python3"
  },
  "language_info": {
   "codemirror_mode": {
    "name": "ipython",
    "version": 3
   },
   "file_extension": ".py",
   "mimetype": "text/x-python",
   "name": "python",
   "nbconvert_exporter": "python",
   "pygments_lexer": "ipython3",
   "version": "3.7.3"
  }
 },
 "nbformat": 4,
 "nbformat_minor": 2
}
